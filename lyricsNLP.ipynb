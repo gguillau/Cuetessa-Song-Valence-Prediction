{
 "cells": [
  {
   "cell_type": "markdown",
   "id": "dd25c79e",
   "metadata": {},
   "source": [
    "# Task for Cuetessa, Inc. – Predicting Valence of Pop Songs\n",
    "\n",
    "## Overview\n",
    "The aim of this task is to develop a Python-based module to predict the valence of newly released pop songs.  Two approaches are to use as input 1) the audio data (e.g., .wav files) of songs and 2) the lyrics of songs.  Publicly available datasets can be used for training and testing. \n",
    "\n",
    "## Data Description\n",
    "We found a lyrics dataset called labeled_lyrics_clearned.csv on Kaggle that contains full lyrics and\n",
    "labels of more than 150,000 songs [6]. The label is the Spotify valence attribute, ranging from 0 to 1. It describes the musical positiveness conveyed by a track. Tracks with high valence sound more\n",
    "positive (happy, cheerful), while tracks with low valence sound more negative (sad, depressed)."
   ]
  },
  {
   "cell_type": "code",
   "execution_count": 6,
   "id": "36854b3f",
   "metadata": {},
   "outputs": [],
   "source": [
    "# Import all necessary libraries\n",
    "import pandas as pd\n",
    "import numpy as np\n",
    "import matplotlib.pyplot as plt\n",
    "\n",
    "from tqdm.auto import tqdm\n",
    "import re\n",
    "from sklearn.linear_model import LinearRegression\n",
    "from sklearn.model_selection import train_test_split, cross_val_score\n",
    "from sklearn.ensemble import RandomForestRegressor\n",
    "from sklearn.metrics import mean_absolute_error, accuracy_score, make_scorer\n",
    "from sklearn.preprocessing import StandardScaler"
   ]
  },
  {
   "cell_type": "code",
   "execution_count": 11,
   "id": "bc16d962",
   "metadata": {},
   "outputs": [],
   "source": [
    "# Load dataset and rename columns for a clearer understanding\n",
    "df = pd.read_csv('/Users/gguillau/Desktop/Practicum/labeled_lyrics_cleaned.csv')\n",
    "df.rename(columns= {'label': 'valence', 'seq':'lyrics'}, inplace=True)"
   ]
  },
  {
   "cell_type": "code",
   "execution_count": 12,
   "id": "a7079349",
   "metadata": {},
   "outputs": [
    {
     "data": {
      "text/html": [
       "<div>\n",
       "<style scoped>\n",
       "    .dataframe tbody tr th:only-of-type {\n",
       "        vertical-align: middle;\n",
       "    }\n",
       "\n",
       "    .dataframe tbody tr th {\n",
       "        vertical-align: top;\n",
       "    }\n",
       "\n",
       "    .dataframe thead th {\n",
       "        text-align: right;\n",
       "    }\n",
       "</style>\n",
       "<table border=\"1\" class=\"dataframe\">\n",
       "  <thead>\n",
       "    <tr style=\"text-align: right;\">\n",
       "      <th></th>\n",
       "      <th>Unnamed: 0</th>\n",
       "      <th>artist</th>\n",
       "      <th>lyrics</th>\n",
       "      <th>song</th>\n",
       "      <th>valence</th>\n",
       "    </tr>\n",
       "  </thead>\n",
       "  <tbody>\n",
       "    <tr>\n",
       "      <th>75670</th>\n",
       "      <td>75670</td>\n",
       "      <td>The Beta Band</td>\n",
       "      <td>\\r\\nBeta Band - Eclipse Lyrics\\r\\n\\r\\nAlbum: ...</td>\n",
       "      <td>Eclipse</td>\n",
       "      <td>0.232</td>\n",
       "    </tr>\n",
       "  </tbody>\n",
       "</table>\n",
       "</div>"
      ],
      "text/plain": [
       "       Unnamed: 0         artist  \\\n",
       "75670       75670  The Beta Band   \n",
       "\n",
       "                                                  lyrics     song  valence  \n",
       "75670   \\r\\nBeta Band - Eclipse Lyrics\\r\\n\\r\\nAlbum: ...  Eclipse    0.232  "
      ]
     },
     "execution_count": 12,
     "metadata": {},
     "output_type": "execute_result"
    }
   ],
   "source": [
    "df.sample()"
   ]
  },
  {
   "cell_type": "code",
   "execution_count": 18,
   "id": "3233a387",
   "metadata": {},
   "outputs": [],
   "source": [
    "# function to determine if columns in file have null values\n",
    "def get_percent_of_na(df, num):\n",
    "    count = 0\n",
    "    df = df.copy()\n",
    "    s = (df.isna().sum() / df.shape[0])\n",
    "    for column, percent in zip(s.index, s.values):\n",
    "        num_of_nulls = df[column].isna().sum()\n",
    "        if num_of_nulls == 0:\n",
    "            continue\n",
    "        else:\n",
    "            count += 1\n",
    "        print('Column {} has {:.{}%} percent of Nulls, and {} of nulls'.format(column, percent, num, num_of_nulls))\n",
    "    if count != 0:\n",
    "        print(\"\\033[1m\" + 'There are {} columns with NA.'.format(count) + \"\\033[0m\")\n",
    "    else:\n",
    "        print()\n",
    "        print(\"\\033[1m\" + 'There are no columns with NA.' + \"\\033[0m\")\n",
    "        \n",
    "# function to display general information about the dataset\n",
    "def get_info(df):\n",
    "    \"\"\"\n",
    "    This function uses the head(), info(), describe(), shape() and duplicated() \n",
    "    methods to display the general information about the dataset.\n",
    "    \"\"\"\n",
    "    print(\"\\033[1m\" + '-'*100 + \"\\033[0m\")\n",
    "    print('Head:')\n",
    "    print()\n",
    "    display(df.head())\n",
    "    print('-'*100)\n",
    "    print('Info:')\n",
    "    print()\n",
    "    display(df.info())\n",
    "    print('-'*100)\n",
    "    print('Describe:')\n",
    "    print()\n",
    "    display(df.describe())\n",
    "    print('-'*100)\n",
    "    display(df.describe)\n",
    "    print()\n",
    "    print('Columns with nulls:')\n",
    "    display(get_percent_of_na(df, 4))  # check this out\n",
    "    print('-'*100)\n",
    "    print('Shape:')\n",
    "    print(df.shape)\n",
    "    print('-'*100)\n",
    "    print('Duplicated:')\n",
    "    print(\"\\033[1m\" + 'We have {} duplicated rows.\\n'.format(df.duplicated().sum()) + \"\\033[0m\")"
   ]
  },
  {
   "cell_type": "code",
   "execution_count": 19,
   "id": "b3ad32ba",
   "metadata": {},
   "outputs": [
    {
     "name": "stdout",
     "output_type": "stream",
     "text": [
      "\u001b[1m----------------------------------------------------------------------------------------------------\u001b[0m\n",
      "Head:\n",
      "\n"
     ]
    },
    {
     "data": {
      "text/html": [
       "<div>\n",
       "<style scoped>\n",
       "    .dataframe tbody tr th:only-of-type {\n",
       "        vertical-align: middle;\n",
       "    }\n",
       "\n",
       "    .dataframe tbody tr th {\n",
       "        vertical-align: top;\n",
       "    }\n",
       "\n",
       "    .dataframe thead th {\n",
       "        text-align: right;\n",
       "    }\n",
       "</style>\n",
       "<table border=\"1\" class=\"dataframe\">\n",
       "  <thead>\n",
       "    <tr style=\"text-align: right;\">\n",
       "      <th></th>\n",
       "      <th>Unnamed: 0</th>\n",
       "      <th>artist</th>\n",
       "      <th>lyrics</th>\n",
       "      <th>song</th>\n",
       "      <th>valence</th>\n",
       "    </tr>\n",
       "  </thead>\n",
       "  <tbody>\n",
       "    <tr>\n",
       "      <th>0</th>\n",
       "      <td>0</td>\n",
       "      <td>Elijah Blake</td>\n",
       "      <td>No, no\\r\\nI ain't ever trapped out the bando\\r...</td>\n",
       "      <td>Everyday</td>\n",
       "      <td>0.626</td>\n",
       "    </tr>\n",
       "    <tr>\n",
       "      <th>1</th>\n",
       "      <td>1</td>\n",
       "      <td>Elijah Blake</td>\n",
       "      <td>The drinks go down and smoke goes up, I feel m...</td>\n",
       "      <td>Live Till We Die</td>\n",
       "      <td>0.630</td>\n",
       "    </tr>\n",
       "    <tr>\n",
       "      <th>2</th>\n",
       "      <td>2</td>\n",
       "      <td>Elijah Blake</td>\n",
       "      <td>She don't live on planet Earth no more\\r\\nShe ...</td>\n",
       "      <td>The Otherside</td>\n",
       "      <td>0.240</td>\n",
       "    </tr>\n",
       "    <tr>\n",
       "      <th>3</th>\n",
       "      <td>3</td>\n",
       "      <td>Elijah Blake</td>\n",
       "      <td>Trippin' off that Grigio, mobbin', lights low\\...</td>\n",
       "      <td>Pinot</td>\n",
       "      <td>0.536</td>\n",
       "    </tr>\n",
       "    <tr>\n",
       "      <th>4</th>\n",
       "      <td>4</td>\n",
       "      <td>Elijah Blake</td>\n",
       "      <td>I see a midnight panther, so gallant and so br...</td>\n",
       "      <td>Shadows &amp; Diamonds</td>\n",
       "      <td>0.371</td>\n",
       "    </tr>\n",
       "  </tbody>\n",
       "</table>\n",
       "</div>"
      ],
      "text/plain": [
       "   Unnamed: 0        artist  \\\n",
       "0           0  Elijah Blake   \n",
       "1           1  Elijah Blake   \n",
       "2           2  Elijah Blake   \n",
       "3           3  Elijah Blake   \n",
       "4           4  Elijah Blake   \n",
       "\n",
       "                                              lyrics                song  \\\n",
       "0  No, no\\r\\nI ain't ever trapped out the bando\\r...            Everyday   \n",
       "1  The drinks go down and smoke goes up, I feel m...    Live Till We Die   \n",
       "2  She don't live on planet Earth no more\\r\\nShe ...       The Otherside   \n",
       "3  Trippin' off that Grigio, mobbin', lights low\\...               Pinot   \n",
       "4  I see a midnight panther, so gallant and so br...  Shadows & Diamonds   \n",
       "\n",
       "   valence  \n",
       "0    0.626  \n",
       "1    0.630  \n",
       "2    0.240  \n",
       "3    0.536  \n",
       "4    0.371  "
      ]
     },
     "metadata": {},
     "output_type": "display_data"
    },
    {
     "name": "stdout",
     "output_type": "stream",
     "text": [
      "----------------------------------------------------------------------------------------------------\n",
      "Info:\n",
      "\n",
      "<class 'pandas.core.frame.DataFrame'>\n",
      "RangeIndex: 158353 entries, 0 to 158352\n",
      "Data columns (total 5 columns):\n",
      " #   Column      Non-Null Count   Dtype  \n",
      "---  ------      --------------   -----  \n",
      " 0   Unnamed: 0  158353 non-null  int64  \n",
      " 1   artist      158353 non-null  object \n",
      " 2   lyrics      158353 non-null  object \n",
      " 3   song        158353 non-null  object \n",
      " 4   valence     158353 non-null  float64\n",
      "dtypes: float64(1), int64(1), object(3)\n",
      "memory usage: 6.0+ MB\n"
     ]
    },
    {
     "data": {
      "text/plain": [
       "None"
      ]
     },
     "metadata": {},
     "output_type": "display_data"
    },
    {
     "name": "stdout",
     "output_type": "stream",
     "text": [
      "----------------------------------------------------------------------------------------------------\n",
      "Describe:\n",
      "\n"
     ]
    },
    {
     "data": {
      "text/html": [
       "<div>\n",
       "<style scoped>\n",
       "    .dataframe tbody tr th:only-of-type {\n",
       "        vertical-align: middle;\n",
       "    }\n",
       "\n",
       "    .dataframe tbody tr th {\n",
       "        vertical-align: top;\n",
       "    }\n",
       "\n",
       "    .dataframe thead th {\n",
       "        text-align: right;\n",
       "    }\n",
       "</style>\n",
       "<table border=\"1\" class=\"dataframe\">\n",
       "  <thead>\n",
       "    <tr style=\"text-align: right;\">\n",
       "      <th></th>\n",
       "      <th>Unnamed: 0</th>\n",
       "      <th>valence</th>\n",
       "    </tr>\n",
       "  </thead>\n",
       "  <tbody>\n",
       "    <tr>\n",
       "      <th>count</th>\n",
       "      <td>158353.000000</td>\n",
       "      <td>158353.000000</td>\n",
       "    </tr>\n",
       "    <tr>\n",
       "      <th>mean</th>\n",
       "      <td>79176.000000</td>\n",
       "      <td>0.491052</td>\n",
       "    </tr>\n",
       "    <tr>\n",
       "      <th>std</th>\n",
       "      <td>45712.717926</td>\n",
       "      <td>0.249619</td>\n",
       "    </tr>\n",
       "    <tr>\n",
       "      <th>min</th>\n",
       "      <td>0.000000</td>\n",
       "      <td>0.000000</td>\n",
       "    </tr>\n",
       "    <tr>\n",
       "      <th>25%</th>\n",
       "      <td>39588.000000</td>\n",
       "      <td>0.286000</td>\n",
       "    </tr>\n",
       "    <tr>\n",
       "      <th>50%</th>\n",
       "      <td>79176.000000</td>\n",
       "      <td>0.483000</td>\n",
       "    </tr>\n",
       "    <tr>\n",
       "      <th>75%</th>\n",
       "      <td>118764.000000</td>\n",
       "      <td>0.691000</td>\n",
       "    </tr>\n",
       "    <tr>\n",
       "      <th>max</th>\n",
       "      <td>158352.000000</td>\n",
       "      <td>0.998000</td>\n",
       "    </tr>\n",
       "  </tbody>\n",
       "</table>\n",
       "</div>"
      ],
      "text/plain": [
       "          Unnamed: 0        valence\n",
       "count  158353.000000  158353.000000\n",
       "mean    79176.000000       0.491052\n",
       "std     45712.717926       0.249619\n",
       "min         0.000000       0.000000\n",
       "25%     39588.000000       0.286000\n",
       "50%     79176.000000       0.483000\n",
       "75%    118764.000000       0.691000\n",
       "max    158352.000000       0.998000"
      ]
     },
     "metadata": {},
     "output_type": "display_data"
    },
    {
     "name": "stdout",
     "output_type": "stream",
     "text": [
      "----------------------------------------------------------------------------------------------------\n"
     ]
    },
    {
     "data": {
      "text/plain": [
       "<bound method NDFrame.describe of         Unnamed: 0        artist  \\\n",
       "0                0  Elijah Blake   \n",
       "1                1  Elijah Blake   \n",
       "2                2  Elijah Blake   \n",
       "3                3  Elijah Blake   \n",
       "4                4  Elijah Blake   \n",
       "...            ...           ...   \n",
       "158348      158348    Adam Green   \n",
       "158349      158349    Adam Green   \n",
       "158350      158350    Adam Green   \n",
       "158351      158351    Adam Green   \n",
       "158352      158352    Adam Green   \n",
       "\n",
       "                                                   lyrics                song  \\\n",
       "0       No, no\\r\\nI ain't ever trapped out the bando\\r...            Everyday   \n",
       "1       The drinks go down and smoke goes up, I feel m...    Live Till We Die   \n",
       "2       She don't live on planet Earth no more\\r\\nShe ...       The Otherside   \n",
       "3       Trippin' off that Grigio, mobbin', lights low\\...               Pinot   \n",
       "4       I see a midnight panther, so gallant and so br...  Shadows & Diamonds   \n",
       "...                                                   ...                 ...   \n",
       "158348  And we live on borrowed time,\\r\\nBut this head...     Friends of Mine   \n",
       "158349  Frozin in time forever\\r\\nCarrying that torch ...      Frozen in Time   \n",
       "158350  Hard to be a girl. \\r\\nSo nice to be a boy. \\r...   Hard to Be a Girl   \n",
       "158351  I want to chose to die,\\r\\nAnd be buried with ...         I Wanna Die   \n",
       "158352  Musical ladders\\r\\nLeaning on mountains\\r\\nBat...     Musical Ladders   \n",
       "\n",
       "        valence  \n",
       "0         0.626  \n",
       "1         0.630  \n",
       "2         0.240  \n",
       "3         0.536  \n",
       "4         0.371  \n",
       "...         ...  \n",
       "158348    0.737  \n",
       "158349    0.482  \n",
       "158350    0.733  \n",
       "158351    0.361  \n",
       "158352    0.263  \n",
       "\n",
       "[158353 rows x 5 columns]>"
      ]
     },
     "metadata": {},
     "output_type": "display_data"
    },
    {
     "name": "stdout",
     "output_type": "stream",
     "text": [
      "\n",
      "Columns with nulls:\n",
      "\n",
      "\u001b[1mThere are no columns with NA.\u001b[0m\n"
     ]
    },
    {
     "data": {
      "text/plain": [
       "None"
      ]
     },
     "metadata": {},
     "output_type": "display_data"
    },
    {
     "name": "stdout",
     "output_type": "stream",
     "text": [
      "----------------------------------------------------------------------------------------------------\n",
      "Shape:\n",
      "(158353, 5)\n",
      "----------------------------------------------------------------------------------------------------\n",
      "Duplicated:\n",
      "\u001b[1mWe have 0 duplicated rows.\n",
      "\u001b[0m\n"
     ]
    }
   ],
   "source": [
    "get_info(df)"
   ]
  },
  {
   "cell_type": "code",
   "execution_count": 23,
   "id": "212e8bff",
   "metadata": {},
   "outputs": [],
   "source": [
    "# Clean lyrics column\n",
    "df['lyrics'] =  [re.sub(r\"\\n\", \" \", string) for string in df['lyrics']]\n",
    "df['lyrics'] =  [re.sub(r\"\\r\", \" \", string) for string in df['lyrics']]"
   ]
  },
  {
   "cell_type": "code",
   "execution_count": 24,
   "id": "cd14c750",
   "metadata": {},
   "outputs": [
    {
     "data": {
      "text/plain": [
       "0     No, no  I ain't ever trapped out the bando  Bu...\n",
       "1     The drinks go down and smoke goes up, I feel m...\n",
       "2     She don't live on planet Earth no more  She fo...\n",
       "3     Trippin' off that Grigio, mobbin', lights low ...\n",
       "4     I see a midnight panther, so gallant and so br...\n",
       "5     I just want to ready your mind  'Cause I'll st...\n",
       "6     To believe  Or not to believe  That is the que...\n",
       "7     Dieses ist lange her.  Da ich deine schmalen H...\n",
       "8     A child is born  Out of the womb of a mother  ...\n",
       "9     Out of the darkness you came   You looked so t...\n",
       "10    Each night I lie in my bed   And I think about...\n",
       "11    Nebel zieh'n gespentisch vor   Der Sucher setz...\n",
       "12    I'm a lonely stranger   In this world of pain ...\n",
       "13    Schwere Tranen   Vergebens geweint   Rinnen wi...\n",
       "14    Come calm my anger  Our love is like a perfect...\n",
       "15    I was walking through the night Suddenly I rem...\n",
       "16    Why can't I hear you breath Why can't I hold y...\n",
       "17    Your cold cold heart has drowned my life in pa...\n",
       "18    He took my soul Took my soul In his hands My m...\n",
       "19    Peel off my skin, make me helpless Taste my bo...\n",
       "Name: lyrics, dtype: object"
      ]
     },
     "execution_count": 24,
     "metadata": {},
     "output_type": "execute_result"
    }
   ],
   "source": [
    "# Visualize cleaned lyrics column\n",
    "df['lyrics'].head(20)"
   ]
  },
  {
   "cell_type": "code",
   "execution_count": 25,
   "id": "8dd91c76",
   "metadata": {},
   "outputs": [],
   "source": [
    "# Take a random sample from original dataset\n",
    "data = df.sample(frac=0.40, random_state=12345)"
   ]
  },
  {
   "cell_type": "code",
   "execution_count": 26,
   "id": "76e8bc1d",
   "metadata": {},
   "outputs": [
    {
     "name": "stdout",
     "output_type": "stream",
     "text": [
      "\u001b[1m----------------------------------------------------------------------------------------------------\u001b[0m\n",
      "Head:\n",
      "\n"
     ]
    },
    {
     "data": {
      "text/html": [
       "<div>\n",
       "<style scoped>\n",
       "    .dataframe tbody tr th:only-of-type {\n",
       "        vertical-align: middle;\n",
       "    }\n",
       "\n",
       "    .dataframe tbody tr th {\n",
       "        vertical-align: top;\n",
       "    }\n",
       "\n",
       "    .dataframe thead th {\n",
       "        text-align: right;\n",
       "    }\n",
       "</style>\n",
       "<table border=\"1\" class=\"dataframe\">\n",
       "  <thead>\n",
       "    <tr style=\"text-align: right;\">\n",
       "      <th></th>\n",
       "      <th>Unnamed: 0</th>\n",
       "      <th>artist</th>\n",
       "      <th>lyrics</th>\n",
       "      <th>song</th>\n",
       "      <th>valence</th>\n",
       "    </tr>\n",
       "  </thead>\n",
       "  <tbody>\n",
       "    <tr>\n",
       "      <th>119994</th>\n",
       "      <td>119994</td>\n",
       "      <td>Letters to Cleo</td>\n",
       "      <td>The saddest sound I've ever heard; the saddest...</td>\n",
       "      <td>Wasted</td>\n",
       "      <td>0.465</td>\n",
       "    </tr>\n",
       "    <tr>\n",
       "      <th>44328</th>\n",
       "      <td>44328</td>\n",
       "      <td>Gregory Isaacs</td>\n",
       "      <td>I thought it would be better  Now I'm a brande...</td>\n",
       "      <td>Hot Stepper</td>\n",
       "      <td>0.934</td>\n",
       "    </tr>\n",
       "    <tr>\n",
       "      <th>139867</th>\n",
       "      <td>139867</td>\n",
       "      <td>HONNE</td>\n",
       "      <td>Ten out of ten  You killed it once again  'Cau...</td>\n",
       "      <td>Woman</td>\n",
       "      <td>0.246</td>\n",
       "    </tr>\n",
       "    <tr>\n",
       "      <th>152222</th>\n",
       "      <td>152222</td>\n",
       "      <td>Richard Marx</td>\n",
       "      <td>We're all victims of the system  Still we love...</td>\n",
       "      <td>Hands in Your Pocket</td>\n",
       "      <td>0.789</td>\n",
       "    </tr>\n",
       "    <tr>\n",
       "      <th>90485</th>\n",
       "      <td>90485</td>\n",
       "      <td>Billy Currington</td>\n",
       "      <td>Hey, girl, what's your name, girl I've been lo...</td>\n",
       "      <td>Hey Girl</td>\n",
       "      <td>0.652</td>\n",
       "    </tr>\n",
       "  </tbody>\n",
       "</table>\n",
       "</div>"
      ],
      "text/plain": [
       "        Unnamed: 0            artist  \\\n",
       "119994      119994   Letters to Cleo   \n",
       "44328        44328    Gregory Isaacs   \n",
       "139867      139867             HONNE   \n",
       "152222      152222      Richard Marx   \n",
       "90485        90485  Billy Currington   \n",
       "\n",
       "                                                   lyrics  \\\n",
       "119994  The saddest sound I've ever heard; the saddest...   \n",
       "44328   I thought it would be better  Now I'm a brande...   \n",
       "139867  Ten out of ten  You killed it once again  'Cau...   \n",
       "152222  We're all victims of the system  Still we love...   \n",
       "90485   Hey, girl, what's your name, girl I've been lo...   \n",
       "\n",
       "                        song  valence  \n",
       "119994                Wasted    0.465  \n",
       "44328            Hot Stepper    0.934  \n",
       "139867                 Woman    0.246  \n",
       "152222  Hands in Your Pocket    0.789  \n",
       "90485               Hey Girl    0.652  "
      ]
     },
     "metadata": {},
     "output_type": "display_data"
    },
    {
     "name": "stdout",
     "output_type": "stream",
     "text": [
      "----------------------------------------------------------------------------------------------------\n",
      "Info:\n",
      "\n",
      "<class 'pandas.core.frame.DataFrame'>\n",
      "Int64Index: 63341 entries, 119994 to 1033\n",
      "Data columns (total 5 columns):\n",
      " #   Column      Non-Null Count  Dtype  \n",
      "---  ------      --------------  -----  \n",
      " 0   Unnamed: 0  63341 non-null  int64  \n",
      " 1   artist      63341 non-null  object \n",
      " 2   lyrics      63341 non-null  object \n",
      " 3   song        63341 non-null  object \n",
      " 4   valence     63341 non-null  float64\n",
      "dtypes: float64(1), int64(1), object(3)\n",
      "memory usage: 2.9+ MB\n"
     ]
    },
    {
     "data": {
      "text/plain": [
       "None"
      ]
     },
     "metadata": {},
     "output_type": "display_data"
    },
    {
     "name": "stdout",
     "output_type": "stream",
     "text": [
      "----------------------------------------------------------------------------------------------------\n",
      "Describe:\n",
      "\n"
     ]
    },
    {
     "data": {
      "text/html": [
       "<div>\n",
       "<style scoped>\n",
       "    .dataframe tbody tr th:only-of-type {\n",
       "        vertical-align: middle;\n",
       "    }\n",
       "\n",
       "    .dataframe tbody tr th {\n",
       "        vertical-align: top;\n",
       "    }\n",
       "\n",
       "    .dataframe thead th {\n",
       "        text-align: right;\n",
       "    }\n",
       "</style>\n",
       "<table border=\"1\" class=\"dataframe\">\n",
       "  <thead>\n",
       "    <tr style=\"text-align: right;\">\n",
       "      <th></th>\n",
       "      <th>Unnamed: 0</th>\n",
       "      <th>valence</th>\n",
       "    </tr>\n",
       "  </thead>\n",
       "  <tbody>\n",
       "    <tr>\n",
       "      <th>count</th>\n",
       "      <td>63341.000000</td>\n",
       "      <td>63341.000000</td>\n",
       "    </tr>\n",
       "    <tr>\n",
       "      <th>mean</th>\n",
       "      <td>79241.518006</td>\n",
       "      <td>0.490853</td>\n",
       "    </tr>\n",
       "    <tr>\n",
       "      <th>std</th>\n",
       "      <td>45741.642903</td>\n",
       "      <td>0.249305</td>\n",
       "    </tr>\n",
       "    <tr>\n",
       "      <th>min</th>\n",
       "      <td>1.000000</td>\n",
       "      <td>0.000000</td>\n",
       "    </tr>\n",
       "    <tr>\n",
       "      <th>25%</th>\n",
       "      <td>39588.000000</td>\n",
       "      <td>0.287000</td>\n",
       "    </tr>\n",
       "    <tr>\n",
       "      <th>50%</th>\n",
       "      <td>79211.000000</td>\n",
       "      <td>0.483000</td>\n",
       "    </tr>\n",
       "    <tr>\n",
       "      <th>75%</th>\n",
       "      <td>118775.000000</td>\n",
       "      <td>0.690000</td>\n",
       "    </tr>\n",
       "    <tr>\n",
       "      <th>max</th>\n",
       "      <td>158352.000000</td>\n",
       "      <td>0.996000</td>\n",
       "    </tr>\n",
       "  </tbody>\n",
       "</table>\n",
       "</div>"
      ],
      "text/plain": [
       "          Unnamed: 0       valence\n",
       "count   63341.000000  63341.000000\n",
       "mean    79241.518006      0.490853\n",
       "std     45741.642903      0.249305\n",
       "min         1.000000      0.000000\n",
       "25%     39588.000000      0.287000\n",
       "50%     79211.000000      0.483000\n",
       "75%    118775.000000      0.690000\n",
       "max    158352.000000      0.996000"
      ]
     },
     "metadata": {},
     "output_type": "display_data"
    },
    {
     "name": "stdout",
     "output_type": "stream",
     "text": [
      "----------------------------------------------------------------------------------------------------\n"
     ]
    },
    {
     "data": {
      "text/plain": [
       "<bound method NDFrame.describe of         Unnamed: 0            artist  \\\n",
       "119994      119994   Letters to Cleo   \n",
       "44328        44328    Gregory Isaacs   \n",
       "139867      139867             HONNE   \n",
       "152222      152222      Richard Marx   \n",
       "90485        90485  Billy Currington   \n",
       "...            ...               ...   \n",
       "6472          6472        Tony Brook   \n",
       "48952        48952      Audrey Assad   \n",
       "60400        60400      Muddy Waters   \n",
       "61082        61082     Elvis Presley   \n",
       "1033          1033     Julian Lennon   \n",
       "\n",
       "                                                   lyrics  \\\n",
       "119994  The saddest sound I've ever heard; the saddest...   \n",
       "44328   I thought it would be better  Now I'm a brande...   \n",
       "139867  Ten out of ten  You killed it once again  'Cau...   \n",
       "152222  We're all victims of the system  Still we love...   \n",
       "90485   Hey, girl, what's your name, girl I've been lo...   \n",
       "...                                                   ...   \n",
       "6472    I looked over Jordan and what did I see?  Comi...   \n",
       "48952   In the beginning, you hovered over the water  ...   \n",
       "60400   Well I've been working on the high line, baby,...   \n",
       "61082   There's no joy in my heart,   Only sorrow  And...   \n",
       "1033    I'm walking in the air  And it feels just like...   \n",
       "\n",
       "                                     song  valence  \n",
       "119994                             Wasted    0.465  \n",
       "44328                         Hot Stepper    0.934  \n",
       "139867                              Woman    0.246  \n",
       "152222               Hands in Your Pocket    0.789  \n",
       "90485                            Hey Girl    0.652  \n",
       "...                                   ...      ...  \n",
       "6472              Swing Low Sweet Chariot    0.816  \n",
       "48952                   New Every Morning    0.137  \n",
       "60400                    Streamline Woman    0.680  \n",
       "61082   I Want to Be Free [Movie Version]    0.562  \n",
       "1033                                Space    0.307  \n",
       "\n",
       "[63341 rows x 5 columns]>"
      ]
     },
     "metadata": {},
     "output_type": "display_data"
    },
    {
     "name": "stdout",
     "output_type": "stream",
     "text": [
      "\n",
      "Columns with nulls:\n",
      "\n",
      "\u001b[1mThere are no columns with NA.\u001b[0m\n"
     ]
    },
    {
     "data": {
      "text/plain": [
       "None"
      ]
     },
     "metadata": {},
     "output_type": "display_data"
    },
    {
     "name": "stdout",
     "output_type": "stream",
     "text": [
      "----------------------------------------------------------------------------------------------------\n",
      "Shape:\n",
      "(63341, 5)\n",
      "----------------------------------------------------------------------------------------------------\n",
      "Duplicated:\n",
      "\u001b[1mWe have 0 duplicated rows.\n",
      "\u001b[0m\n"
     ]
    }
   ],
   "source": [
    "get_info(data)"
   ]
  },
  {
   "cell_type": "code",
   "execution_count": 28,
   "id": "9cb2e839",
   "metadata": {},
   "outputs": [
    {
     "data": {
      "text/plain": [
       "60000"
      ]
     },
     "execution_count": 28,
     "metadata": {},
     "output_type": "execute_result"
    }
   ],
   "source": [
    "# Round down to 60000 rows\n",
    "df = df.loc[:59999]\n",
    "len(df)"
   ]
  }
 ],
 "metadata": {
  "kernelspec": {
   "display_name": "Python 3 (ipykernel)",
   "language": "python",
   "name": "python3"
  },
  "language_info": {
   "codemirror_mode": {
    "name": "ipython",
    "version": 3
   },
   "file_extension": ".py",
   "mimetype": "text/x-python",
   "name": "python",
   "nbconvert_exporter": "python",
   "pygments_lexer": "ipython3",
   "version": "3.9.15"
  }
 },
 "nbformat": 4,
 "nbformat_minor": 5
}
