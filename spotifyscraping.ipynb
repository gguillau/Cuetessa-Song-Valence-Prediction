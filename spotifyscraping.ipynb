{
 "cells": [
  {
   "cell_type": "code",
   "execution_count": 1,
   "id": "1601e644",
   "metadata": {},
   "outputs": [],
   "source": [
    "# Preporcessing, scraping and EDA\n",
    "import os\n",
    "import re\n",
    "import warnings\n",
    "from time import time\n",
    "\n",
    "import IPython.display as ipd\n",
    "import librosa\n",
    "import librosa.display as ld\n",
    "import matplotlib.pyplot as plt\n",
    "import numpy as np\n",
    "import pandas as pd\n",
    "import requests\n",
    "import seaborn as sns\n",
    "from bs4 import BeautifulSoup as bs\n",
    "from spotipy.oauth2 import SpotifyClientCredentials\n",
    "from tqdm import tqdm\n",
    "\n",
    "import spotipy\n",
    "from spotipy.oauth2 import SpotifyClientCredentials\n",
    "\n",
    "warnings.filterwarnings(\"ignore\")"
   ]
  },
  {
   "cell_type": "markdown",
   "id": "7e121bcc",
   "metadata": {},
   "source": [
    "### Data Scraping"
   ]
  },
  {
   "cell_type": "code",
   "execution_count": null,
   "id": "314fef4a",
   "metadata": {},
   "outputs": [],
   "source": [
    "chart_hist_URL = \"https://kworb.net/spotify/artists.html\"\n",
    "\n",
    "req = requests.get(chart_hist_URL)\n",
    "req.status_code"
   ]
  },
  {
   "cell_type": "code",
   "execution_count": null,
   "id": "897c5481",
   "metadata": {},
   "outputs": [],
   "source": [
    "# encode the page content for proper artist names displaying\n",
    "content = req.text.encode(\"latin-1\")\n",
    "\n",
    "soup = BS(content, 'lxml')"
   ]
  },
  {
   "cell_type": "code",
   "execution_count": null,
   "id": "f3567674",
   "metadata": {},
   "outputs": [],
   "source": [
    "# find the top artists table\n",
    "tabular_data = soup.find_all('table', attrs={\"id\":\"spotifyartistindex\"})\n",
    "len(tabular_data) # check how many found\n"
   ]
  }
 ],
 "metadata": {
  "kernelspec": {
   "display_name": "Python 3 (ipykernel)",
   "language": "python",
   "name": "python3"
  },
  "language_info": {
   "codemirror_mode": {
    "name": "ipython",
    "version": 3
   },
   "file_extension": ".py",
   "mimetype": "text/x-python",
   "name": "python",
   "nbconvert_exporter": "python",
   "pygments_lexer": "ipython3",
   "version": "3.9.15"
  }
 },
 "nbformat": 4,
 "nbformat_minor": 5
}
